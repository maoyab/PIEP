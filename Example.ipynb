{
 "cells": [
  {
   "cell_type": "code",
   "execution_count": 1,
   "metadata": {
    "collapsed": true
   },
   "outputs": [],
   "source": [
    "from param_sm_pdf import Processor\n",
    "from sswm import SM_A\n",
    "from datetime import datetime\n",
    "from pickle import dump, load\n",
    "from os import path\n",
    "import numpy as np\n",
    "import matplotlib.pyplot as plt\n",
    "from scipy.stats import cumfreq\n",
    "import sys\n",
    "\n",
    "% matplotlib inline"
   ]
  },
  {
   "cell_type": "code",
   "execution_count": 62,
   "metadata": {},
   "outputs": [],
   "source": [
    "with open(path.join('iterables', 'example_input.pickle'), 'wb') as f:\n",
    "    dump(iterables, f)"
   ]
  },
  {
   "cell_type": "code",
   "execution_count": 63,
   "metadata": {
    "collapsed": true
   },
   "outputs": [],
   "source": [
    "iterables = np.load(path.join('iterables', 'example_input.pickle'))"
   ]
  },
  {
   "cell_type": "code",
   "execution_count": 2,
   "metadata": {
    "collapsed": true
   },
   "outputs": [],
   "source": [
    "num_pl = 3                          # number of threads\n",
    "samples = 20000                     # number of sample simulations per thread\n",
    "max_num_pl = 10                     # max number of total run samples possible\n",
    "n_pl_min = num_pl                   # min number of converged run samples to provide results\n",
    "burnin = 1. / 2.                    # Fraction of burn in period\n",
    "efficiency_lim = [1, 90]            # limits of MH-MCMC acceptable efficiency"
   ]
  },
  {
   "cell_type": "code",
   "execution_count": 64,
   "metadata": {},
   "outputs": [
    {
     "data": {
      "image/png": "[encoded data removed]",
      "text/plain": [
       "<matplotlib.figure.Figure at 0x107bbd950>"
      ]
     },
     "metadata": {},
     "output_type": "display_data"
    }
   ],
   "source": [
    "# annual model\n",
    "model_params_estimate_annual = ['e_max', 's_wilt','s_star'] # use names consistent with script dict  \n",
    "processor = Processor(model_params_estimate_annual)\n",
    "loc_res = example_inversion(iterables[0])\n",
    "plot_p(loc_res)"
   ]
  },
  {
   "cell_type": "code",
   "execution_count": 66,
   "metadata": {},
   "outputs": [
    {
     "data": {
      "image/png": "[encoded data removed]",
      "text/plain": [
       "<matplotlib.figure.Figure at 0x107bde110>"
      ]
     },
     "metadata": {},
     "output_type": "display_data"
    }
   ],
   "source": [
    "# model with dry season of td days\n",
    "model_params_estimate_seasonal = ['e_max', 'e_max_dry', 's_wilt','s_star']  \n",
    "processor = Processor(model_params_estimate_seasonal)\n",
    "loc_res = example_inversion(iterables[1])\n",
    "plot_p(loc_res)"
   ]
  },
  {
   "cell_type": "code",
   "execution_count": 5,
   "metadata": {
    "collapsed": true
   },
   "outputs": [],
   "source": [
    "def example_inversion(loc_res):\n",
    "    dt0 = datetime.now()\n",
    "    theta0 = {'s_wilt': loc_res['s_wilt'],\n",
    "              's_star': loc_res['s_star'], \n",
    "              'delta': loc_res['delta'],\n",
    "              'rf_lambda': loc_res['rf_lambda'],\n",
    "              'rf_alpha': loc_res['rf_alpha'],\n",
    "              'Zr': loc_res['Zr'],\n",
    "              'a': loc_res['a'],\n",
    "              'b': loc_res['b'],\n",
    "              'Ks': loc_res['Ks'],\n",
    "              'n': loc_res['n'],\n",
    "              's_h': loc_res['s_h'],\n",
    "              's_fc': loc_res['s_fc'],\n",
    "              'f_w': loc_res['f_w'],\n",
    "              'e_max': loc_res['e_max'],\n",
    "              'e_max_dry': loc_res['e_max_dry'],\n",
    "              't_d': loc_res['t_d']\n",
    "             }\n",
    "\n",
    "    p_ranges = {'s_wilt': [loc_res['s_h'], loc_res['s_fc']], \n",
    "                's_star': [loc_res['s_h'], loc_res['s_fc']],\n",
    "                'e_max': [0., 10.],\n",
    "                'e_max_dry': [0., 10.],\n",
    "                'f_w': [0., 0.5],\n",
    "                'Zr': [20, 600]}\n",
    "                # add ranges as necessary to optimize for other variables\n",
    "\n",
    "    pl_results, n_it, fail_conv_count, fail_eff_count = processor.get_mcmc_mh_results(\n",
    "                                                            loc_res['s_obs'], \n",
    "                                                            theta0, p_ranges,\n",
    "                                                            nbr_sim=samples, \n",
    "                                                            num_pl=num_pl,\n",
    "                                                            burnin=burnin,\n",
    "                                                            max_num_pl=max_num_pl,\n",
    "                                                            efficiency_lim=efficiency_lim)\n",
    "    loc_res['n_it'] = n_it\n",
    "    loc_res['num_pl'] = len(pl_results)\n",
    "    loc_res['fail_conv_count'] = fail_conv_count\n",
    "    loc_res['fail_eff_count'] = fail_eff_count\n",
    "\n",
    "    if loc_res['num_pl'] == n_pl_min:\n",
    "        loc_res = processor.process_raw_results(loc_res, \n",
    "                                                pl_results,\n",
    "                                                outfile_format=outfile_format)\n",
    "\n",
    "    loc_res['ctime'] = (datetime.now() - dt0).seconds / 60.\n",
    "    loc_res['fail_conv_count'] = fail_conv_count + loc_res['fail_conv_count']\n",
    "    loc_res['fail_eff_count'] = fail_eff_count + loc_res['fail_eff_count']\n",
    "    \n",
    "    return loc_res"
   ]
  },
  {
   "cell_type": "code",
   "execution_count": 21,
   "metadata": {
    "collapsed": true
   },
   "outputs": [],
   "source": [
    "def plot_p(dfi):\n",
    "    bins = np.linspace(0, 1, 21)\n",
    "    s_list = np.linspace(0, 1, 101)\n",
    "    p_fitted_norm, smpdf = get_p_fitted(dfi)\n",
    "    p_fitted_norm = p_fitted_norm * 100.\n",
    "    l_cdf_m = 101\n",
    "    cdf_m = np.cumsum(p_fitted_norm)\n",
    "    cdf_m_n = cdf_m / np.max(cdf_m)\n",
    "    cumfreqs_e, lowlim_e, binsize_e, extrapoints_e = cumfreq(loc_res['s_obs'], \n",
    "                                                             numbins=l_cdf_m, \n",
    "                                                             defaultreallimits=[0, 1])\n",
    "    cumfreqs_e = np.array(cumfreqs_e) / np.max(cumfreqs_e)\n",
    "    \n",
    "    fig = plt.figure(figsize=(8, 3))\n",
    "    axp = plt.subplot2grid((1, 5), (0, 0), colspan=3)\n",
    "    axq = plt.subplot2grid((1, 5), (0, 3), colspan=2)\n",
    "    \n",
    "    axp.fill_between([dfi['s_h'], dfi['s_fc']], [0, 0], [7, 7], color='grey', alpha=0.2, lw=0)\n",
    "    axp.fill_between([dfi['s_wilt'], dfi['s_fc']], [0, 0], [7, 7], color='grey', alpha=0.4, lw=0)\n",
    "    axp.fill_between([dfi['s_star'], dfi['s_fc']], [0, 0], [7, 7], color='grey', alpha=0.5, lw=0)\n",
    "    axp.hist(loc_res['s_obs'], bins, normed=1, edgecolor='None', facecolor='olive')\n",
    "    axp.plot(s_list, p_fitted_norm, color='k', lw=0.75)\n",
    "    axp.set_yticks([])\n",
    "    axp.set_xticks([0, dfi['s_h'], dfi['s_wilt'], dfi['s_star'], dfi['s_fc'],1])\n",
    "    axp.set_ylabel(r'$p(s)$')\n",
    "    axp.set_xticklabels(['0', '$s_{h}$', '$s_{wilt}$', '$s^*$',  '$s_{fc}$', '1'], fontsize=8)\n",
    "    axp.set_xlabel('')\n",
    "    axp.set_ylim([0, 7])\n",
    "    axp.set_xlim([0, 1])\n",
    "    axp.set_title('%s [%s]' % (dfi['site_name'], dfi['scale']))\n",
    "    \n",
    "    axq.plot(cumfreqs_e, cdf_m_n, lw=0.75, color='k', label = 'NSE: %-5.2f' % (dfi['NSE']))\n",
    "    axq.yaxis.tick_right()\n",
    "    axq.set_xlim([0, 1])\n",
    "    axq.set_ylim([0, 1])\n",
    "    axq.set_xticks([0, 0.5, 1])\n",
    "    axq.set_xticklabels(['0', 0.5, '1'], fontsize=10)\n",
    "    axq.set_yticklabels(['0', 0.5, '1'], fontsize=10)\n",
    "    axq.set_yticks([0, 0.5, 1])\n",
    "    axq.set_xlabel('Empirical CDF')\n",
    "    axq.set_ylabel('Modeled CDF')\n",
    "    axq.yaxis.set_label_position('right')\n",
    "    plt.legend(frameon=False, loc='lower right')\n",
    "    \n",
    "    fig.subplots_adjust(wspace=0.1, hspace=0)\n",
    "    plt.show()"
   ]
  },
  {
   "cell_type": "code",
   "execution_count": 7,
   "metadata": {
    "collapsed": true
   },
   "outputs": [],
   "source": [
    "def get_p_fitted(dfi):\n",
    "    theta_l = [loc_res['s_h'], loc_res['s_wilt'], loc_res['s_star'], loc_res['s_fc'],\n",
    "                   loc_res['e_max'],  loc_res['f_w'], \n",
    "                   loc_res['rf_alpha'], loc_res['rf_lambda'], loc_res['delta'],\n",
    "                   loc_res['a'], loc_res['b'], loc_res['Ks'], loc_res['n'], loc_res['Zr'],\n",
    "                   loc_res['e_max_dry'], loc_res['t_d']]\n",
    "    smpdf = SM_A(theta_l)\n",
    "    p_fitted_norm = smpdf.get_p0()\n",
    "    return p_fitted_norm, smpdf"
   ]
  },
  {
   "cell_type": "code",
   "execution_count": null,
   "metadata": {
    "collapsed": true
   },
   "outputs": [],
   "source": []
  }
 ],
 "metadata": {
  "kernelspec": {
   "display_name": "Python 2",
   "language": "python",
   "name": "python2"
  },
  "language_info": {
   "codemirror_mode": {
    "name": "ipython",
    "version": 2
   },
   "file_extension": ".py",
   "mimetype": "text/x-python",
   "name": "python",
   "nbconvert_exporter": "python",
   "pygments_lexer": "ipython2",
   "version": "2.7.14"
  }
 },
 "nbformat": 4,
 "nbformat_minor": 2
}
